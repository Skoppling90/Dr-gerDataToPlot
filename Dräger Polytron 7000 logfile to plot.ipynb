{
 "cells": [
  {
   "cell_type": "code",
   "execution_count": 624,
   "metadata": {},
   "outputs": [],
   "source": [
    "dato='16.10.2018'\n",
    "tidStart='16:00:00'\n",
    "tidSlutt='17:30:00'"
   ]
  },
  {
   "cell_type": "code",
   "execution_count": 625,
   "metadata": {},
   "outputs": [],
   "source": [
    "import pandas as pd\n",
    "import numpy as np\n",
    "import matplotlib.pyplot as plt\n",
    "from pandas import ExcelWriter\n",
    "from pandas import ExcelFile\n",
    "\n",
    "df = pd.read_csv(\"Polytron 7000_ARYE0794_17_7_2017.csv\", sep=';', header=None)\n"
   ]
  },
  {
   "cell_type": "code",
   "execution_count": 639,
   "metadata": {},
   "outputs": [
    {
     "data": {
      "text/html": [
       "<div>\n",
       "<style scoped>\n",
       "    .dataframe tbody tr th:only-of-type {\n",
       "        vertical-align: middle;\n",
       "    }\n",
       "\n",
       "    .dataframe tbody tr th {\n",
       "        vertical-align: top;\n",
       "    }\n",
       "\n",
       "    .dataframe thead th {\n",
       "        text-align: right;\n",
       "    }\n",
       "</style>\n",
       "<table border=\"1\" class=\"dataframe\">\n",
       "  <thead>\n",
       "    <tr style=\"text-align: right;\">\n",
       "      <th></th>\n",
       "      <th>H2O2</th>\n",
       "    </tr>\n",
       "    <tr>\n",
       "      <th>Tid</th>\n",
       "      <th></th>\n",
       "    </tr>\n",
       "  </thead>\n",
       "  <tbody>\n",
       "    <tr>\n",
       "      <th>16:00:35</th>\n",
       "      <td>9.591</td>\n",
       "    </tr>\n",
       "    <tr>\n",
       "      <th>16:01:35</th>\n",
       "      <td>9.386</td>\n",
       "    </tr>\n",
       "    <tr>\n",
       "      <th>16:02:35</th>\n",
       "      <td>9.261</td>\n",
       "    </tr>\n",
       "    <tr>\n",
       "      <th>16:03:35</th>\n",
       "      <td>9.116</td>\n",
       "    </tr>\n",
       "    <tr>\n",
       "      <th>16:04:35</th>\n",
       "      <td>8.926</td>\n",
       "    </tr>\n",
       "  </tbody>\n",
       "</table>\n",
       "</div>"
      ],
      "text/plain": [
       "           H2O2\n",
       "Tid            \n",
       "16:00:35  9.591\n",
       "16:01:35  9.386\n",
       "16:02:35  9.261\n",
       "16:03:35  9.116\n",
       "16:04:35  8.926"
      ]
     },
     "execution_count": 639,
     "metadata": {},
     "output_type": "execute_result"
    }
   ],
   "source": [
    "df.head()"
   ]
  },
  {
   "cell_type": "code",
   "execution_count": 627,
   "metadata": {},
   "outputs": [],
   "source": [
    "df=df[df[0]=='VAL'] #fjerner alle rader uten VAL i seg (alle uten en H2O2-verdi)"
   ]
  },
  {
   "cell_type": "code",
   "execution_count": 629,
   "metadata": {},
   "outputs": [],
   "source": [
    "df=df.loc[:,1:3] # fjerner alle kolonner utenom dato, tid og H2O2"
   ]
  },
  {
   "cell_type": "code",
   "execution_count": 630,
   "metadata": {},
   "outputs": [],
   "source": [
    "df.columns = ['Dato', 'Tid', 'H2O2'] # Gir kolonnene passende navn"
   ]
  },
  {
   "cell_type": "code",
   "execution_count": 632,
   "metadata": {},
   "outputs": [],
   "source": [
    "df=df[df['Dato']==dato] #fjerner målinger gjort på andre datoer enn det vi ønsker basert på forhåndsbestemt dato "
   ]
  },
  {
   "cell_type": "code",
   "execution_count": 633,
   "metadata": {},
   "outputs": [],
   "source": [
    "df=df.drop(['Dato'], axis=1) #fjerner dato-kolonnen"
   ]
  },
  {
   "cell_type": "code",
   "execution_count": 634,
   "metadata": {},
   "outputs": [],
   "source": [
    "df=df[(df['Tid'] > tidStart) & (df['Tid'] < tidSlutt)] #fjerner målinger gjort på andre tidspunkt \n",
    "#enn det vi ønsker basert på forhåndsbestemt start og slutt tid "
   ]
  },
  {
   "cell_type": "code",
   "execution_count": 635,
   "metadata": {},
   "outputs": [],
   "source": [
    "df['H2O2'] = df['H2O2'].str.replace(',','.').astype(np.float64) #setter kolonnen H2O2 til float i stedet for object og bytter \n",
    "#skilletegn fra , til ."
   ]
  },
  {
   "cell_type": "code",
   "execution_count": 636,
   "metadata": {},
   "outputs": [],
   "source": [
    "df=df.set_index('Tid') # Setter Tid som en index for radene"
   ]
  },
  {
   "cell_type": "code",
   "execution_count": 637,
   "metadata": {},
   "outputs": [
    {
     "data": {
      "text/html": [
       "<div>\n",
       "<style scoped>\n",
       "    .dataframe tbody tr th:only-of-type {\n",
       "        vertical-align: middle;\n",
       "    }\n",
       "\n",
       "    .dataframe tbody tr th {\n",
       "        vertical-align: top;\n",
       "    }\n",
       "\n",
       "    .dataframe thead th {\n",
       "        text-align: right;\n",
       "    }\n",
       "</style>\n",
       "<table border=\"1\" class=\"dataframe\">\n",
       "  <thead>\n",
       "    <tr style=\"text-align: right;\">\n",
       "      <th></th>\n",
       "      <th>H2O2</th>\n",
       "    </tr>\n",
       "    <tr>\n",
       "      <th>Tid</th>\n",
       "      <th></th>\n",
       "    </tr>\n",
       "  </thead>\n",
       "  <tbody>\n",
       "    <tr>\n",
       "      <th>16:00:35</th>\n",
       "      <td>9.591</td>\n",
       "    </tr>\n",
       "    <tr>\n",
       "      <th>16:01:35</th>\n",
       "      <td>9.386</td>\n",
       "    </tr>\n",
       "    <tr>\n",
       "      <th>16:02:35</th>\n",
       "      <td>9.261</td>\n",
       "    </tr>\n",
       "    <tr>\n",
       "      <th>16:03:35</th>\n",
       "      <td>9.116</td>\n",
       "    </tr>\n",
       "    <tr>\n",
       "      <th>16:04:35</th>\n",
       "      <td>8.926</td>\n",
       "    </tr>\n",
       "  </tbody>\n",
       "</table>\n",
       "</div>"
      ],
      "text/plain": [
       "           H2O2\n",
       "Tid            \n",
       "16:00:35  9.591\n",
       "16:01:35  9.386\n",
       "16:02:35  9.261\n",
       "16:03:35  9.116\n",
       "16:04:35  8.926"
      ]
     },
     "execution_count": 637,
     "metadata": {},
     "output_type": "execute_result"
    }
   ],
   "source": [
    "df.head()"
   ]
  },
  {
   "cell_type": "code",
   "execution_count": 644,
   "metadata": {},
   "outputs": [
    {
     "data": {
      "image/png": "[encoded data removed]",
      "text/plain": [
       "<Figure size 432x288 with 1 Axes>"
      ]
     },
     "metadata": {
      "needs_background": "light"
     },
     "output_type": "display_data"
    }
   ],
   "source": [
    "df.plot()\n",
    "plt.xlabel('Tid (' + tidStart + '-' + tidSlutt + ')')\n",
    "plt.ylabel('H2O2 (ppm)')\n",
    "plt.legend(['Dräger Polytron 7000'])\n",
    "plt.savefig('H2O2plot ' + dato + '.png')\n",
    "plt.grid()\n",
    "plt.show()\n"
   ]
  },
  {
   "cell_type": "code",
   "execution_count": null,
   "metadata": {},
   "outputs": [],
   "source": []
  }
 ],
 "metadata": {
  "kernelspec": {
   "display_name": "Python 3",
   "language": "python",
   "name": "python3"
  },
  "language_info": {
   "codemirror_mode": {
    "name": "ipython",
    "version": 3
   },
   "file_extension": ".py",
   "mimetype": "text/x-python",
   "name": "python",
   "nbconvert_exporter": "python",
   "pygments_lexer": "ipython3",
   "version": "3.5.6"
  }
 },
 "nbformat": 4,
 "nbformat_minor": 2
}
